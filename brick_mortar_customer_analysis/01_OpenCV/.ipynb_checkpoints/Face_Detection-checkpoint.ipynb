{
 "cells": [
  {
   "cell_type": "code",
   "execution_count": 1,
   "id": "6fdddd4c-d3ea-4af7-9441-988bebbde206",
   "metadata": {},
   "outputs": [],
   "source": [
    "import cv2"
   ]
  },
  {
   "cell_type": "code",
   "execution_count": 2,
   "id": "b0518371-68af-43fc-918b-9fe7e1c4c9f3",
   "metadata": {},
   "outputs": [
    {
     "name": "stdout",
     "output_type": "stream",
     "text": [
      "Showing camera feed. Click window or press any key to stop.\n"
     ]
    }
   ],
   "source": [
    "# Just open the camera using CV2\n",
    "clicked = False\n",
    "def onMouse(event, x, y, flags, param):\n",
    "    global clicked\n",
    "    if event == cv2.EVENT_LBUTTONUP:\n",
    "        clicked = True\n",
    "\n",
    "cameraCapture = cv2.VideoCapture(0)\n",
    "cv2.namedWindow('MyWindow')\n",
    "cv2.setMouseCallback('MyWindow', onMouse)\n",
    "\n",
    "print('Showing camera feed. Click window or press any key to stop.')\n",
    "success, frame = cameraCapture.read()\n",
    "while cv2.waitKey(1) is -1 and not clicked:\n",
    "    if frame is not None:\n",
    "        cv2.imshow('MyWindow', frame)\n",
    "    success, frame = cameraCapture.read()\n",
    "\n",
    "cv2.destroyWindow('MyWindow')"
   ]
  },
  {
   "cell_type": "markdown",
   "id": "decbd44d-62eb-411c-aff9-c08e563c7308",
   "metadata": {},
   "source": [
    "Opens the camera using OpenCV and detects face from the input stream of data feed from webcam"
   ]
  },
  {
   "cell_type": "code",
   "execution_count": 3,
   "id": "eb1bde6f-2715-4d07-9089-9efb1d56cfc1",
   "metadata": {},
   "outputs": [],
   "source": [
    "face_cascade = cv2.CascadeClassifier('haarcascade_frontalface_default.xml')\n",
    "eye_cascade = cv2.CascadeClassifier('haarcascade_eye.xml')\n",
    "smile_cascade = cv2.CascadeClassifier('haarcascade_smile.xml')\n",
    "cap = cv2.VideoCapture(0)\n",
    "while 1:\n",
    "    ret, img = cap.read()\n",
    "    gray = cv2.cvtColor(img, cv2.COLOR_BGR2GRAY)\n",
    "    faces = face_cascade.detectMultiScale(gray, 1.3, 5)\n",
    " \n",
    "    for (x, y, w, h) in faces:\n",
    "        cv2.rectangle(img, (x, y), (x + w, y + h), (255, 255, 0), 2)\n",
    "        roi_gray = gray[y:y + h, x:x + w]\n",
    "        roi_color = img[y:y + h, x:x + w]\n",
    "    \n",
    "        eyes = eye_cascade.detectMultiScale(roi_gray)\n",
    "        smile = smile_cascade.detectMultiScale(roi_gray)\n",
    "        for (ex, ey, ew, eh) in eyes:\n",
    "            cv2.rectangle(roi_color, (ex, ey), (ex + ew, ey + eh), (0, 255, 255), 2)\n",
    "        for (sx,sy,sw,sh) in smile:\n",
    "            cv2.rectangle(roi_color, (sx, sy), (sx + sw, sy + sh), (255, 0, 255), 2)\n",
    "    cv2.imshow('Press q to Quit', img)\n",
    "    if cv2.waitKey(1) & 0xFF == ord('q'): # press q tp quit and close the camera\n",
    "        break\n",
    "cap.release()\n",
    "cv2.destroyAllWindows()"
   ]
  },
  {
   "cell_type": "markdown",
   "id": "7e9be63a-071c-4aca-ac4c-a21b7b5015fe",
   "metadata": {},
   "source": [
    "\n",
    "```python\n",
    " cv2.waitKey(1) & 0xFF == ord('q')\n",
    "```\n",
    "- The <b>waitKey(0)</b>: Opens camera and displays still image\n",
    "- The <b>waitKey(1)</b>: opens camera and display video fee\n",
    "\n",
    "- <b>waitKey(1)</b> function returns -1 when no input is made whatsoever. As soon the event occurs i.e. a Button is pressed it returns a 32-bit integer.\n",
    "\n",
    "- The <b>0xFF</b> in this scenario is representing binary 11111111 a 8 bit binary, since we only require 8 bits to represent a character we AND waitKey(0) to 0xFF. As a result, an integer is obtained below 255.\n",
    "\n",
    "- <b>ord(char)</b> returns the ASCII value of the character which would be again maximum 255.\n",
    "\n",
    "- Hence by comparing the integer to the ord(char) value, we can check for a key pressed event and break the loop\n",
    "\n",
    "Explanation provided by [OneCricketeer](https://stackoverflow.com/a/52913689/8560575)"
   ]
  },
  {
   "cell_type": "code",
   "execution_count": null,
   "id": "8241ea4f-b3ca-4f2b-8319-faf61ba6ea7b",
   "metadata": {},
   "outputs": [],
   "source": []
  }
 ],
 "metadata": {
  "kernelspec": {
   "display_name": "Python 3 (ipykernel)",
   "language": "python",
   "name": "python3"
  },
  "language_info": {
   "codemirror_mode": {
    "name": "ipython",
    "version": 3
   },
   "file_extension": ".py",
   "mimetype": "text/x-python",
   "name": "python",
   "nbconvert_exporter": "python",
   "pygments_lexer": "ipython3",
   "version": "3.7.11"
  }
 },
 "nbformat": 4,
 "nbformat_minor": 5
}
