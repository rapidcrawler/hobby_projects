{
 "cells": [
  {
   "cell_type": "code",
   "execution_count": null,
   "id": "9dd5d198-8570-4cec-832d-ce8f20d46d92",
   "metadata": {},
   "outputs": [],
   "source": []
  },
  {
   "cell_type": "markdown",
   "id": "d3209f00-ef3c-49d5-93e4-03dbb9566d2c",
   "metadata": {},
   "source": [
    "```python\n",
    "import tensorflow as tf\n",
    "from tensorflow.keras.preprocessing.text import one_hot, Tokenizer\n",
    "from tensorflow.keras.preprocessing.sequence import pad_sequences\n",
    "from tensorflow.keras.layers import Dense, Input, LSTM, Embedding, Dropout, Activation\n",
    "from tensorflow.keras.layers import Bidirectional, GlobalMaxPool1D, Conv1D, SimpleRNN\n",
    "from tensorflow.keras.models import Model\n",
    "from tensorflow.keras.models import Sequential\n",
    "from tensorflow.keras import initializers, regularizers, constraints, optimizers, layers\n",
    "from tensorflow.keras.layers import Dense, Input, Input, Flatten, Dropout, BatchNormalization\n",
    "from tensorflow.keras.layers import Conv1D, MaxPooling1D, Embedding\n",
    "from tensorflow.keras.callbacks import EarlyStopping\n",
    "from tensorflow.keras.callbacks import ModelCheckpoint\n",
    "from tensorflow.keras.models import load_model\n",
    "#from tensorflow.keras.engine.topology import Layer\n",
    "from tensorflow.keras.layers import *\n",
    "from tensorflow.keras.models import *\n",
    "from tensorflow.keras import backend as K\n",
    "import warnings\n",
    "warnings.filterwarnings('ignore')\n",
    "```"
   ]
  },
  {
   "cell_type": "code",
   "execution_count": null,
   "id": "333a6f3d-dd7c-4870-bc5a-08a569b49ba0",
   "metadata": {},
   "outputs": [],
   "source": []
  },
  {
   "cell_type": "markdown",
   "id": "daa067fa-14b1-4ad0-a71d-481ee49378ad",
   "metadata": {},
   "source": [
    "```python\n",
    "# Model Training\n",
    "model = Sequential()\n",
    "model.add(Embedding(max_words, embedding_dim, input_length=max_sequence_length))\n",
    "model.add(Bidirectional(LSTM(embedding_dim*2, return_sequences=True, dropout=0.2, recurrent_dropout=0), merge_mode='sum'))\n",
    "model.add(Bidirectional(LSTM(embedding_dim, return_sequences=True, dropout=0.2, recurrent_dropout=0), merge_mode='sum'))\n",
    "model.add(AttentionLayer(max_sequence_length)) # receive 3D and output 3D (Attention layer)\n",
    "model.add(Dense(embedding_dim*2, activation='relu'))\n",
    "model.add(Dropout(0.3))\n",
    "model.add(Dense(embedding_dim*2, activation='relu'))\n",
    "model.add(Dropout(0.3))\n",
    "model.add(Dense(embedding_dim, activation='relu'))\n",
    "model.add(Dropout(0.3))\n",
    "#model.add(GlobalMaxPool1D())\n",
    "model.add(Dense(7, activation='softmax'))\n",
    "model.compile(loss='categorical_crossentropy', optimizer='adam', metrics=['accuracy'])\n",
    "model.summary()\n",
    "```"
   ]
  },
  {
   "cell_type": "code",
   "execution_count": null,
   "id": "23ac5251-2ed3-4d02-930a-0729981f0875",
   "metadata": {},
   "outputs": [],
   "source": []
  },
  {
   "cell_type": "markdown",
   "id": "455b7fb8-7c78-401d-a443-a3b68f1ab3b3",
   "metadata": {},
   "source": [
    "```python\n",
    "model.compile(loss = 'categorical_crossentropy', optimizer='adam', metrics = ['accuracy']) \n",
    "```"
   ]
  },
  {
   "cell_type": "code",
   "execution_count": null,
   "id": "f7412d63-3e14-4878-86f4-77913d95a634",
   "metadata": {},
   "outputs": [],
   "source": [
    " "
   ]
  },
  {
   "cell_type": "markdown",
   "id": "e727f684-5f91-478d-b957-24ea8c734e11",
   "metadata": {},
   "source": [
    "```python\n",
    "class_weight = {0: 3,\n",
    "1: 8,\n",
    "2: 2,\n",
    "3: 1,\n",
    "4: 8,\n",
    "5: 3,\n",
    "6: 1} \n",
    "```"
   ]
  },
  {
   "cell_type": "code",
   "execution_count": null,
   "id": "703ec8cc-310a-4200-8d55-08b6d8261d3c",
   "metadata": {},
   "outputs": [],
   "source": []
  },
  {
   "cell_type": "markdown",
   "id": "498ec05a-a0c1-4c41-99b8-527e18b89778",
   "metadata": {},
   "source": [
    "```python\n",
    "# simple early stopping\n",
    "#es = EarlyStopping(monitor='val_loss', mode='min', verbose=1, patience=3)\n",
    "es = EarlyStopping(monitor='val_loss', mode='min', verbose=1, patience=4, min_delta=0, baseline=None, restore_best_weights=True)\n",
    "\n",
    "#mc = ModelCheckpoint('best_model.h5', monitor='val_accuracy', mode='max', verbose=1, save_best_only=True)\n",
    "mc = ModelCheckpoint(filepath=checkpoint_filepath, monitor='val_loss', mode='min', verbose=1, save_best_only=True)\n",
    "```"
   ]
  },
  {
   "cell_type": "code",
   "execution_count": null,
   "id": "71b0dcec-00bf-495b-ae7e-02799f7bf5a5",
   "metadata": {},
   "outputs": [],
   "source": []
  },
  {
   "cell_type": "markdown",
   "id": "d2175cb8-3a95-434e-9f93-72fa624bf143",
   "metadata": {},
   "source": [
    "```python\n",
    "history = model.fit(train_data\n",
    ", train_labels\n",
    ", batch_size=64\n",
    ", epochs= 20\n",
    ", class_weight = class_weight\n",
    ", validation_data=(test_data, test_labels)\n",
    ", callbacks=[es,mc]) # best 89(now) or 48 or 60 epochs # default epochs = 23 # batch_size changed to 1 (takes 2.30hrs) from 16\n",
    "```"
   ]
  },
  {
   "cell_type": "code",
   "execution_count": null,
   "id": "fbd3a934-c90a-4f01-9d0d-ad0119449362",
   "metadata": {},
   "outputs": [],
   "source": []
  },
  {
   "cell_type": "markdown",
   "id": "854938eb-73f4-490c-8f98-7eeeec854773",
   "metadata": {},
   "source": [
    "```python\n",
    "# Prediction on Test Data\n",
    "predicted_attn_bilstm = model.predict(test_data)\n",
    "#predicted_bi_lstm\n",
    "```"
   ]
  },
  {
   "cell_type": "code",
   "execution_count": null,
   "id": "bdc2f0dd-dd0e-432c-a0dc-79e67e85c25b",
   "metadata": {},
   "outputs": [],
   "source": []
  },
  {
   "cell_type": "markdown",
   "id": "81425bc3-bbfd-4af6-94a4-ed98120aa662",
   "metadata": {},
   "source": [
    "```python\n",
    "import sklearn\n",
    "from sklearn.metrics import precision_recall_fscore_support as score\n",
    "precision, recall, fscore, support = score(test_labels, predicted_attn_bilstm.round())\n",
    "```"
   ]
  },
  {
   "cell_type": "markdown",
   "id": "554a47c3-178e-4552-82a8-68b4979e8930",
   "metadata": {},
   "source": [
    "```python\n",
    "print('precision: {}'.format(precision))\n",
    "print('recall: {}'.format(recall))\n",
    "print('fscore: {}'.format(fscore))\n",
    "print('support: {}'.format(support))\n",
    "print('################################')\n",
    "print(sklearn.metrics.classification_report(test_labels, predicted_attn_bilstm.round())) \n",
    "```"
   ]
  }
 ],
 "metadata": {
  "kernelspec": {
   "display_name": "Python 3 (ipykernel)",
   "language": "python",
   "name": "python3"
  },
  "language_info": {
   "codemirror_mode": {
    "name": "ipython",
    "version": 3
   },
   "file_extension": ".py",
   "mimetype": "text/x-python",
   "name": "python",
   "nbconvert_exporter": "python",
   "pygments_lexer": "ipython3",
   "version": "3.7.4"
  }
 },
 "nbformat": 4,
 "nbformat_minor": 5
}
