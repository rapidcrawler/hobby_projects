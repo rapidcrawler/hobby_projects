{
 "cells": [
  {
   "cell_type": "code",
   "execution_count": 6,
   "id": "1fd59001-bbad-4cc2-8d0e-5012301f99db",
   "metadata": {},
   "outputs": [],
   "source": [
    "import numpy as np\n",
    "import matplotlib.pyplot as py\n",
    "import matplotlib.patches as patch"
   ]
  },
  {
   "cell_type": "code",
   "execution_count": 20,
   "id": "cb17098c-1f11-4721-825b-bddb6b8e2aaf",
   "metadata": {},
   "outputs": [
    {
     "data": {
      "image/png": "[encoded data removed]",
      "text/plain": [
       "<Figure size 432x288 with 1 Axes>"
      ]
     },
     "metadata": {
      "needs_background": "light"
     },
     "output_type": "display_data"
    }
   ],
   "source": [
    "#Plotting the tri colours in national flag\n",
    "saffron_stripe = patch.Rectangle((0,5), width=12, height=2, facecolor='#FF9933', edgecolor='grey')\n",
    "white_stripe = patch.Rectangle((0,3), width=12, height=2, facecolor='white', edgecolor='grey')\n",
    "green_stripe = patch.Rectangle((0,1), width=12, height=2, facecolor='green', edgecolor='grey')\n",
    "\n",
    "m,n = py.subplots()\n",
    "\n",
    "# Saffron, White a& Green strips\n",
    "n.add_patch(green_stripe); n.add_patch(white_stripe); n.add_patch(saffron_stripe)\n",
    "\n",
    "# AshokChakra Circle\n",
    "radius=0.8\n",
    "py.plot(6,4, marker = 'o', markerfacecolor = '#000088ff', markersize = 9.5)\n",
    "chakra = py.Circle((6, 4), radius, color='#000088ff', fill=False, linewidth=7)\n",
    "n.add_artist(chakra)\n",
    "\n",
    "# 24 spokes in AshokChakra\n",
    "for i in range(0,24):\n",
    "    p = 6 + radius/2 * np.cos(np.pi*i/12 + np.pi/48)\n",
    "    q = 6 + radius/2 * np.cos(np.pi*i/12 - np.pi/48)\n",
    "    r = 4 + radius/2 * np.sin(np.pi*i/12 + np.pi/48)\n",
    "    s = 4 + radius/2 * np.sin(np.pi*i/12 - np.pi/48)\n",
    "    t = 6 + radius * np.cos(np.pi*i/12)\n",
    "    u = 4 + radius * np.sin(np.pi*i/12)\n",
    "    n.add_patch(patch.Polygon([[6,4], [p,r], [t,u],[q,s]], fill=True, closed=True, color='#000088ff'))\n",
    "\n",
    "    py.axis('equal')\n",
    "py.show()"
   ]
  },
  {
   "cell_type": "code",
   "execution_count": null,
   "id": "572736d3-0003-44a8-a534-f7d78723d538",
   "metadata": {},
   "outputs": [],
   "source": [
    "\n",
    "\n",
    "\n"
   ]
  }
 ],
 "metadata": {
  "kernelspec": {
   "display_name": "Python 3 (ipykernel)",
   "language": "python",
   "name": "python3"
  },
  "language_info": {
   "codemirror_mode": {
    "name": "ipython",
    "version": 3
   },
   "file_extension": ".py",
   "mimetype": "text/x-python",
   "name": "python",
   "nbconvert_exporter": "python",
   "pygments_lexer": "ipython3",
   "version": "3.7.4"
  }
 },
 "nbformat": 4,
 "nbformat_minor": 5
}
